{
 "cells": [
  {
   "cell_type": "markdown",
   "metadata": {},
   "source": [
    "## Analysis of Spotify data\n",
    "\n",
    "In this notebook, we are analysing the basic features of different Spotify songs. The goal being to cluster and them to define the metrics that can be used to recognize the type of a song as well as finding similar song. "
   ]
  },
  {
   "cell_type": "code",
   "execution_count": 34,
   "metadata": {},
   "outputs": [],
   "source": [
    "from sklearn.preprocessing import StandardScaler"
   ]
  },
  {
   "cell_type": "code",
   "execution_count": 4,
   "metadata": {},
   "outputs": [],
   "source": [
    "import spotipy\n",
    "from spotipy.oauth2 import SpotifyClientCredentials\n",
    "import timeit\n",
    "import pandas as pd\n",
    "import matplotlib.pyplot as plt\n",
    "import plotly.plotly as py\n",
    "import plotly.graph_objs as go\n",
    "import seaborn as sns\n",
    "import numpy as np\n",
    "from sklearn.cluster import KMeans"
   ]
  },
  {
   "cell_type": "code",
   "execution_count": 6,
   "metadata": {},
   "outputs": [],
   "source": [
    "cid =\"47e61e82d3044694b1735d8d566a159a\" \n",
    "secret = \"63c23dcc717745f389f658884059fc9c\"\n",
    "\n",
    "client_credentials_manager = SpotifyClientCredentials(client_id=cid, client_secret=secret)\n",
    "sp = spotipy.Spotify(client_credentials_manager=client_credentials_manager)"
   ]
  },
  {
   "cell_type": "code",
   "execution_count": 7,
   "metadata": {},
   "outputs": [
    {
     "name": "stdout",
     "output_type": "stream",
     "text": [
      "Time to run this code (in seconds): 191.66811651282052\n"
     ]
    }
   ],
   "source": [
    "start = timeit.default_timer()\n",
    "artist_name, track_name, popularity, track_id = [], [], [], []\n",
    "\n",
    "for i in range(0,10000,50):\n",
    "    track_results = sp.search(q='year:2018', type='track', limit=50,offset=i)\n",
    "    for i, t in enumerate(track_results['tracks']['items']):\n",
    "        artist_name.append(t['artists'][0]['name'])\n",
    "        track_name.append(t['name'])\n",
    "        track_id.append(t['id'])\n",
    "        popularity.append(t['popularity'])\n",
    "      \n",
    "stop = timeit.default_timer()\n",
    "print ('Time to run this code (in seconds):', stop - start)"
   ]
  },
  {
   "cell_type": "code",
   "execution_count": 8,
   "metadata": {},
   "outputs": [
    {
     "name": "stdout",
     "output_type": "stream",
     "text": [
      "artist:  10000\n",
      "\n",
      " track 10000\n",
      "\n",
      " popularity 10000\n",
      "\n",
      " track_id 10000\n"
     ]
    }
   ],
   "source": [
    "print('artist: ', len(artist_name))\n",
    "print('\\n track', len(track_name))\n",
    "print('\\n popularity', len(popularity))\n",
    "print('\\n track_id', len(track_id))"
   ]
  },
  {
   "cell_type": "code",
   "execution_count": 9,
   "metadata": {},
   "outputs": [],
   "source": [
    "dat = pd.DataFrame({'artist':artist_name,'track':track_name,'track_id':track_id,'popularity':popularity})"
   ]
  },
  {
   "cell_type": "code",
   "execution_count": 10,
   "metadata": {},
   "outputs": [
    {
     "data": {
      "text/html": [
       "<div>\n",
       "<style scoped>\n",
       "    .dataframe tbody tr th:only-of-type {\n",
       "        vertical-align: middle;\n",
       "    }\n",
       "\n",
       "    .dataframe tbody tr th {\n",
       "        vertical-align: top;\n",
       "    }\n",
       "\n",
       "    .dataframe thead th {\n",
       "        text-align: right;\n",
       "    }\n",
       "</style>\n",
       "<table border=\"1\" class=\"dataframe\">\n",
       "  <thead>\n",
       "    <tr style=\"text-align: right;\">\n",
       "      <th></th>\n",
       "      <th>artist</th>\n",
       "      <th>track</th>\n",
       "      <th>track_id</th>\n",
       "      <th>popularity</th>\n",
       "    </tr>\n",
       "  </thead>\n",
       "  <tbody>\n",
       "    <tr>\n",
       "      <th>0</th>\n",
       "      <td>Post Malone</td>\n",
       "      <td>Sunflower - Spider-Man: Into the Spider-Verse</td>\n",
       "      <td>3KkXRkHbMCARz0aVfEt68P</td>\n",
       "      <td>98</td>\n",
       "    </tr>\n",
       "    <tr>\n",
       "      <th>1</th>\n",
       "      <td>Los Unidades</td>\n",
       "      <td>E-Lo (feat. Jozzy)</td>\n",
       "      <td>3eydp9rHJAskzOevEBK267</td>\n",
       "      <td>68</td>\n",
       "    </tr>\n",
       "    <tr>\n",
       "      <th>2</th>\n",
       "      <td>Post Malone</td>\n",
       "      <td>Wow.</td>\n",
       "      <td>6MWtB6iiXyIwun0YzU6DFP</td>\n",
       "      <td>98</td>\n",
       "    </tr>\n",
       "    <tr>\n",
       "      <th>3</th>\n",
       "      <td>Meek Mill</td>\n",
       "      <td>Going Bad (feat. Drake)</td>\n",
       "      <td>2IRZnDFmlqMuOrYOLnZZyc</td>\n",
       "      <td>94</td>\n",
       "    </tr>\n",
       "    <tr>\n",
       "      <th>4</th>\n",
       "      <td>Halsey</td>\n",
       "      <td>Without Me</td>\n",
       "      <td>5p7ujcrUXASCNwRaWNHR1C</td>\n",
       "      <td>97</td>\n",
       "    </tr>\n",
       "  </tbody>\n",
       "</table>\n",
       "</div>"
      ],
      "text/plain": [
       "         artist                                          track  \\\n",
       "0   Post Malone  Sunflower - Spider-Man: Into the Spider-Verse   \n",
       "1  Los Unidades                             E-Lo (feat. Jozzy)   \n",
       "2   Post Malone                                           Wow.   \n",
       "3     Meek Mill                        Going Bad (feat. Drake)   \n",
       "4        Halsey                                     Without Me   \n",
       "\n",
       "                 track_id  popularity  \n",
       "0  3KkXRkHbMCARz0aVfEt68P          98  \n",
       "1  3eydp9rHJAskzOevEBK267          68  \n",
       "2  6MWtB6iiXyIwun0YzU6DFP          98  \n",
       "3  2IRZnDFmlqMuOrYOLnZZyc          94  \n",
       "4  5p7ujcrUXASCNwRaWNHR1C          97  "
      ]
     },
     "execution_count": 10,
     "metadata": {},
     "output_type": "execute_result"
    }
   ],
   "source": [
    "dat.head()"
   ]
  },
  {
   "cell_type": "code",
   "execution_count": 11,
   "metadata": {},
   "outputs": [
    {
     "data": {
      "text/html": [
       "<div>\n",
       "<style scoped>\n",
       "    .dataframe tbody tr th:only-of-type {\n",
       "        vertical-align: middle;\n",
       "    }\n",
       "\n",
       "    .dataframe tbody tr th {\n",
       "        vertical-align: top;\n",
       "    }\n",
       "\n",
       "    .dataframe thead th {\n",
       "        text-align: right;\n",
       "    }\n",
       "</style>\n",
       "<table border=\"1\" class=\"dataframe\">\n",
       "  <thead>\n",
       "    <tr style=\"text-align: right;\">\n",
       "      <th></th>\n",
       "      <th>popularity</th>\n",
       "    </tr>\n",
       "  </thead>\n",
       "  <tbody>\n",
       "    <tr>\n",
       "      <th>count</th>\n",
       "      <td>10000.000000</td>\n",
       "    </tr>\n",
       "    <tr>\n",
       "      <th>mean</th>\n",
       "      <td>59.775000</td>\n",
       "    </tr>\n",
       "    <tr>\n",
       "      <th>std</th>\n",
       "      <td>8.506633</td>\n",
       "    </tr>\n",
       "    <tr>\n",
       "      <th>min</th>\n",
       "      <td>45.000000</td>\n",
       "    </tr>\n",
       "    <tr>\n",
       "      <th>25%</th>\n",
       "      <td>53.000000</td>\n",
       "    </tr>\n",
       "    <tr>\n",
       "      <th>50%</th>\n",
       "      <td>58.000000</td>\n",
       "    </tr>\n",
       "    <tr>\n",
       "      <th>75%</th>\n",
       "      <td>64.000000</td>\n",
       "    </tr>\n",
       "    <tr>\n",
       "      <th>max</th>\n",
       "      <td>98.000000</td>\n",
       "    </tr>\n",
       "  </tbody>\n",
       "</table>\n",
       "</div>"
      ],
      "text/plain": [
       "         popularity\n",
       "count  10000.000000\n",
       "mean      59.775000\n",
       "std        8.506633\n",
       "min       45.000000\n",
       "25%       53.000000\n",
       "50%       58.000000\n",
       "75%       64.000000\n",
       "max       98.000000"
      ]
     },
     "execution_count": 11,
     "metadata": {},
     "output_type": "execute_result"
    }
   ],
   "source": [
    "dat.describe()"
   ]
  },
  {
   "cell_type": "markdown",
   "metadata": {},
   "source": [
    "### Number of duplicate"
   ]
  },
  {
   "cell_type": "code",
   "execution_count": 12,
   "metadata": {},
   "outputs": [
    {
     "data": {
      "text/plain": [
       "2397"
      ]
     },
     "execution_count": 12,
     "metadata": {},
     "output_type": "execute_result"
    }
   ],
   "source": [
    "grouped = dat.groupby(['artist','track'], as_index=True).size()\n",
    "grouped[grouped > 1].count()"
   ]
  },
  {
   "cell_type": "code",
   "execution_count": 13,
   "metadata": {},
   "outputs": [],
   "source": [
    "dat.drop_duplicates(subset=['artist','track'], inplace=True)"
   ]
  },
  {
   "cell_type": "code",
   "execution_count": 14,
   "metadata": {},
   "outputs": [
    {
     "data": {
      "text/plain": [
       "(6958, 4)"
      ]
     },
     "execution_count": 14,
     "metadata": {},
     "output_type": "execute_result"
    }
   ],
   "source": [
    "dat.shape"
   ]
  },
  {
   "cell_type": "code",
   "execution_count": 15,
   "metadata": {},
   "outputs": [
    {
     "name": "stdout",
     "output_type": "stream",
     "text": [
      "Number of tracks where no audio features were available: 1\n",
      "Time to run this code (in seconds): 14.623249641025637\n"
     ]
    }
   ],
   "source": [
    "start = timeit.default_timer()\n",
    "rows = []\n",
    "batchs = 100\n",
    "# counter for None results\n",
    "None_counter = 0\n",
    "\n",
    "for i in range(0,len(dat['track_id']), batchs):\n",
    "    batch = dat['track_id'][i:i+batchs]\n",
    "    feature_results = sp.audio_features(batch)\n",
    "    for i, t in enumerate(feature_results):\n",
    "        if t == None:\n",
    "            None_counter = None_counter + 1\n",
    "        else:\n",
    "            rows.append(t)\n",
    "            \n",
    "print('Number of tracks where no audio features were available:',None_counter)\n",
    "\n",
    "stop = timeit.default_timer()\n",
    "print ('Time to run this code (in seconds):',stop - start)"
   ]
  },
  {
   "cell_type": "code",
   "execution_count": 16,
   "metadata": {},
   "outputs": [],
   "source": [
    "aud = pd.DataFrame.from_dict(rows,orient='columns')"
   ]
  },
  {
   "cell_type": "code",
   "execution_count": 17,
   "metadata": {},
   "outputs": [
    {
     "data": {
      "text/html": [
       "<div>\n",
       "<style scoped>\n",
       "    .dataframe tbody tr th:only-of-type {\n",
       "        vertical-align: middle;\n",
       "    }\n",
       "\n",
       "    .dataframe tbody tr th {\n",
       "        vertical-align: top;\n",
       "    }\n",
       "\n",
       "    .dataframe thead th {\n",
       "        text-align: right;\n",
       "    }\n",
       "</style>\n",
       "<table border=\"1\" class=\"dataframe\">\n",
       "  <thead>\n",
       "    <tr style=\"text-align: right;\">\n",
       "      <th></th>\n",
       "      <th>acousticness</th>\n",
       "      <th>analysis_url</th>\n",
       "      <th>danceability</th>\n",
       "      <th>duration_ms</th>\n",
       "      <th>energy</th>\n",
       "      <th>id</th>\n",
       "      <th>instrumentalness</th>\n",
       "      <th>key</th>\n",
       "      <th>liveness</th>\n",
       "      <th>loudness</th>\n",
       "      <th>mode</th>\n",
       "      <th>speechiness</th>\n",
       "      <th>tempo</th>\n",
       "      <th>time_signature</th>\n",
       "      <th>track_href</th>\n",
       "      <th>type</th>\n",
       "      <th>uri</th>\n",
       "      <th>valence</th>\n",
       "    </tr>\n",
       "  </thead>\n",
       "  <tbody>\n",
       "    <tr>\n",
       "      <th>0</th>\n",
       "      <td>0.556</td>\n",
       "      <td>https://api.spotify.com/v1/audio-analysis/3KkX...</td>\n",
       "      <td>0.760</td>\n",
       "      <td>158040</td>\n",
       "      <td>0.479</td>\n",
       "      <td>3KkXRkHbMCARz0aVfEt68P</td>\n",
       "      <td>0.000000</td>\n",
       "      <td>2</td>\n",
       "      <td>0.0703</td>\n",
       "      <td>-5.574</td>\n",
       "      <td>1</td>\n",
       "      <td>0.0466</td>\n",
       "      <td>89.911</td>\n",
       "      <td>4</td>\n",
       "      <td>https://api.spotify.com/v1/tracks/3KkXRkHbMCAR...</td>\n",
       "      <td>audio_features</td>\n",
       "      <td>spotify:track:3KkXRkHbMCARz0aVfEt68P</td>\n",
       "      <td>0.913</td>\n",
       "    </tr>\n",
       "    <tr>\n",
       "      <th>1</th>\n",
       "      <td>0.469</td>\n",
       "      <td>https://api.spotify.com/v1/audio-analysis/3eyd...</td>\n",
       "      <td>0.698</td>\n",
       "      <td>214720</td>\n",
       "      <td>0.797</td>\n",
       "      <td>3eydp9rHJAskzOevEBK267</td>\n",
       "      <td>0.001180</td>\n",
       "      <td>3</td>\n",
       "      <td>0.1520</td>\n",
       "      <td>-5.125</td>\n",
       "      <td>0</td>\n",
       "      <td>0.0615</td>\n",
       "      <td>101.969</td>\n",
       "      <td>4</td>\n",
       "      <td>https://api.spotify.com/v1/tracks/3eydp9rHJAsk...</td>\n",
       "      <td>audio_features</td>\n",
       "      <td>spotify:track:3eydp9rHJAskzOevEBK267</td>\n",
       "      <td>0.530</td>\n",
       "    </tr>\n",
       "    <tr>\n",
       "      <th>2</th>\n",
       "      <td>0.163</td>\n",
       "      <td>https://api.spotify.com/v1/audio-analysis/6MWt...</td>\n",
       "      <td>0.833</td>\n",
       "      <td>149520</td>\n",
       "      <td>0.539</td>\n",
       "      <td>6MWtB6iiXyIwun0YzU6DFP</td>\n",
       "      <td>0.000002</td>\n",
       "      <td>11</td>\n",
       "      <td>0.1010</td>\n",
       "      <td>-7.399</td>\n",
       "      <td>0</td>\n",
       "      <td>0.1780</td>\n",
       "      <td>99.947</td>\n",
       "      <td>4</td>\n",
       "      <td>https://api.spotify.com/v1/tracks/6MWtB6iiXyIw...</td>\n",
       "      <td>audio_features</td>\n",
       "      <td>spotify:track:6MWtB6iiXyIwun0YzU6DFP</td>\n",
       "      <td>0.385</td>\n",
       "    </tr>\n",
       "    <tr>\n",
       "      <th>3</th>\n",
       "      <td>0.259</td>\n",
       "      <td>https://api.spotify.com/v1/audio-analysis/2IRZ...</td>\n",
       "      <td>0.889</td>\n",
       "      <td>180522</td>\n",
       "      <td>0.496</td>\n",
       "      <td>2IRZnDFmlqMuOrYOLnZZyc</td>\n",
       "      <td>0.000000</td>\n",
       "      <td>4</td>\n",
       "      <td>0.2520</td>\n",
       "      <td>-6.365</td>\n",
       "      <td>0</td>\n",
       "      <td>0.0905</td>\n",
       "      <td>86.003</td>\n",
       "      <td>4</td>\n",
       "      <td>https://api.spotify.com/v1/tracks/2IRZnDFmlqMu...</td>\n",
       "      <td>audio_features</td>\n",
       "      <td>spotify:track:2IRZnDFmlqMuOrYOLnZZyc</td>\n",
       "      <td>0.544</td>\n",
       "    </tr>\n",
       "    <tr>\n",
       "      <th>4</th>\n",
       "      <td>0.297</td>\n",
       "      <td>https://api.spotify.com/v1/audio-analysis/5p7u...</td>\n",
       "      <td>0.752</td>\n",
       "      <td>201661</td>\n",
       "      <td>0.488</td>\n",
       "      <td>5p7ujcrUXASCNwRaWNHR1C</td>\n",
       "      <td>0.000009</td>\n",
       "      <td>6</td>\n",
       "      <td>0.0936</td>\n",
       "      <td>-7.050</td>\n",
       "      <td>1</td>\n",
       "      <td>0.0705</td>\n",
       "      <td>136.041</td>\n",
       "      <td>4</td>\n",
       "      <td>https://api.spotify.com/v1/tracks/5p7ujcrUXASC...</td>\n",
       "      <td>audio_features</td>\n",
       "      <td>spotify:track:5p7ujcrUXASCNwRaWNHR1C</td>\n",
       "      <td>0.533</td>\n",
       "    </tr>\n",
       "  </tbody>\n",
       "</table>\n",
       "</div>"
      ],
      "text/plain": [
       "   acousticness                                       analysis_url  \\\n",
       "0         0.556  https://api.spotify.com/v1/audio-analysis/3KkX...   \n",
       "1         0.469  https://api.spotify.com/v1/audio-analysis/3eyd...   \n",
       "2         0.163  https://api.spotify.com/v1/audio-analysis/6MWt...   \n",
       "3         0.259  https://api.spotify.com/v1/audio-analysis/2IRZ...   \n",
       "4         0.297  https://api.spotify.com/v1/audio-analysis/5p7u...   \n",
       "\n",
       "   danceability  duration_ms  energy                      id  \\\n",
       "0         0.760       158040   0.479  3KkXRkHbMCARz0aVfEt68P   \n",
       "1         0.698       214720   0.797  3eydp9rHJAskzOevEBK267   \n",
       "2         0.833       149520   0.539  6MWtB6iiXyIwun0YzU6DFP   \n",
       "3         0.889       180522   0.496  2IRZnDFmlqMuOrYOLnZZyc   \n",
       "4         0.752       201661   0.488  5p7ujcrUXASCNwRaWNHR1C   \n",
       "\n",
       "   instrumentalness  key  liveness  loudness  mode  speechiness    tempo  \\\n",
       "0          0.000000    2    0.0703    -5.574     1       0.0466   89.911   \n",
       "1          0.001180    3    0.1520    -5.125     0       0.0615  101.969   \n",
       "2          0.000002   11    0.1010    -7.399     0       0.1780   99.947   \n",
       "3          0.000000    4    0.2520    -6.365     0       0.0905   86.003   \n",
       "4          0.000009    6    0.0936    -7.050     1       0.0705  136.041   \n",
       "\n",
       "   time_signature                                         track_href  \\\n",
       "0               4  https://api.spotify.com/v1/tracks/3KkXRkHbMCAR...   \n",
       "1               4  https://api.spotify.com/v1/tracks/3eydp9rHJAsk...   \n",
       "2               4  https://api.spotify.com/v1/tracks/6MWtB6iiXyIw...   \n",
       "3               4  https://api.spotify.com/v1/tracks/2IRZnDFmlqMu...   \n",
       "4               4  https://api.spotify.com/v1/tracks/5p7ujcrUXASC...   \n",
       "\n",
       "             type                                   uri  valence  \n",
       "0  audio_features  spotify:track:3KkXRkHbMCARz0aVfEt68P    0.913  \n",
       "1  audio_features  spotify:track:3eydp9rHJAskzOevEBK267    0.530  \n",
       "2  audio_features  spotify:track:6MWtB6iiXyIwun0YzU6DFP    0.385  \n",
       "3  audio_features  spotify:track:2IRZnDFmlqMuOrYOLnZZyc    0.544  \n",
       "4  audio_features  spotify:track:5p7ujcrUXASCNwRaWNHR1C    0.533  "
      ]
     },
     "execution_count": 17,
     "metadata": {},
     "output_type": "execute_result"
    }
   ],
   "source": [
    "aud.head()"
   ]
  },
  {
   "cell_type": "code",
   "execution_count": 18,
   "metadata": {},
   "outputs": [
    {
     "data": {
      "text/html": [
       "<div>\n",
       "<style scoped>\n",
       "    .dataframe tbody tr th:only-of-type {\n",
       "        vertical-align: middle;\n",
       "    }\n",
       "\n",
       "    .dataframe tbody tr th {\n",
       "        vertical-align: top;\n",
       "    }\n",
       "\n",
       "    .dataframe thead th {\n",
       "        text-align: right;\n",
       "    }\n",
       "</style>\n",
       "<table border=\"1\" class=\"dataframe\">\n",
       "  <thead>\n",
       "    <tr style=\"text-align: right;\">\n",
       "      <th></th>\n",
       "      <th>acousticness</th>\n",
       "      <th>danceability</th>\n",
       "      <th>duration_ms</th>\n",
       "      <th>energy</th>\n",
       "      <th>instrumentalness</th>\n",
       "      <th>key</th>\n",
       "      <th>liveness</th>\n",
       "      <th>loudness</th>\n",
       "      <th>mode</th>\n",
       "      <th>speechiness</th>\n",
       "      <th>tempo</th>\n",
       "      <th>time_signature</th>\n",
       "      <th>valence</th>\n",
       "    </tr>\n",
       "  </thead>\n",
       "  <tbody>\n",
       "    <tr>\n",
       "      <th>count</th>\n",
       "      <td>6957.000000</td>\n",
       "      <td>6957.000000</td>\n",
       "      <td>6.957000e+03</td>\n",
       "      <td>6957.000000</td>\n",
       "      <td>6957.000000</td>\n",
       "      <td>6957.000000</td>\n",
       "      <td>6957.000000</td>\n",
       "      <td>6957.000000</td>\n",
       "      <td>6957.000000</td>\n",
       "      <td>6957.000000</td>\n",
       "      <td>6957.000000</td>\n",
       "      <td>6957.000000</td>\n",
       "      <td>6957.000000</td>\n",
       "    </tr>\n",
       "    <tr>\n",
       "      <th>mean</th>\n",
       "      <td>0.289448</td>\n",
       "      <td>0.645993</td>\n",
       "      <td>1.997040e+05</td>\n",
       "      <td>0.590962</td>\n",
       "      <td>0.099679</td>\n",
       "      <td>5.266063</td>\n",
       "      <td>0.175151</td>\n",
       "      <td>-7.631607</td>\n",
       "      <td>0.599828</td>\n",
       "      <td>0.125064</td>\n",
       "      <td>120.867503</td>\n",
       "      <td>3.926549</td>\n",
       "      <td>0.444842</td>\n",
       "    </tr>\n",
       "    <tr>\n",
       "      <th>std</th>\n",
       "      <td>0.301331</td>\n",
       "      <td>0.164421</td>\n",
       "      <td>5.538809e+04</td>\n",
       "      <td>0.217748</td>\n",
       "      <td>0.262109</td>\n",
       "      <td>3.619569</td>\n",
       "      <td>0.135277</td>\n",
       "      <td>4.384584</td>\n",
       "      <td>0.489968</td>\n",
       "      <td>0.121590</td>\n",
       "      <td>30.171677</td>\n",
       "      <td>0.384330</td>\n",
       "      <td>0.228845</td>\n",
       "    </tr>\n",
       "    <tr>\n",
       "      <th>min</th>\n",
       "      <td>0.000004</td>\n",
       "      <td>0.000000</td>\n",
       "      <td>3.113600e+04</td>\n",
       "      <td>0.000900</td>\n",
       "      <td>0.000000</td>\n",
       "      <td>0.000000</td>\n",
       "      <td>0.014900</td>\n",
       "      <td>-38.905000</td>\n",
       "      <td>0.000000</td>\n",
       "      <td>0.000000</td>\n",
       "      <td>0.000000</td>\n",
       "      <td>0.000000</td>\n",
       "      <td>0.000000</td>\n",
       "    </tr>\n",
       "    <tr>\n",
       "      <th>25%</th>\n",
       "      <td>0.040400</td>\n",
       "      <td>0.544000</td>\n",
       "      <td>1.705390e+05</td>\n",
       "      <td>0.466000</td>\n",
       "      <td>0.000000</td>\n",
       "      <td>2.000000</td>\n",
       "      <td>0.098400</td>\n",
       "      <td>-8.810000</td>\n",
       "      <td>0.000000</td>\n",
       "      <td>0.041100</td>\n",
       "      <td>96.002000</td>\n",
       "      <td>4.000000</td>\n",
       "      <td>0.264000</td>\n",
       "    </tr>\n",
       "    <tr>\n",
       "      <th>50%</th>\n",
       "      <td>0.165000</td>\n",
       "      <td>0.669000</td>\n",
       "      <td>1.980000e+05</td>\n",
       "      <td>0.611000</td>\n",
       "      <td>0.000002</td>\n",
       "      <td>5.000000</td>\n",
       "      <td>0.119000</td>\n",
       "      <td>-6.560000</td>\n",
       "      <td>1.000000</td>\n",
       "      <td>0.067500</td>\n",
       "      <td>120.043000</td>\n",
       "      <td>4.000000</td>\n",
       "      <td>0.431000</td>\n",
       "    </tr>\n",
       "    <tr>\n",
       "      <th>75%</th>\n",
       "      <td>0.476000</td>\n",
       "      <td>0.765000</td>\n",
       "      <td>2.257320e+05</td>\n",
       "      <td>0.752000</td>\n",
       "      <td>0.000901</td>\n",
       "      <td>8.000000</td>\n",
       "      <td>0.203000</td>\n",
       "      <td>-4.995000</td>\n",
       "      <td>1.000000</td>\n",
       "      <td>0.174000</td>\n",
       "      <td>142.086000</td>\n",
       "      <td>4.000000</td>\n",
       "      <td>0.612000</td>\n",
       "    </tr>\n",
       "    <tr>\n",
       "      <th>max</th>\n",
       "      <td>0.996000</td>\n",
       "      <td>0.985000</td>\n",
       "      <td>1.355938e+06</td>\n",
       "      <td>0.996000</td>\n",
       "      <td>0.993000</td>\n",
       "      <td>11.000000</td>\n",
       "      <td>0.979000</td>\n",
       "      <td>0.598000</td>\n",
       "      <td>1.000000</td>\n",
       "      <td>0.966000</td>\n",
       "      <td>216.115000</td>\n",
       "      <td>5.000000</td>\n",
       "      <td>0.980000</td>\n",
       "    </tr>\n",
       "  </tbody>\n",
       "</table>\n",
       "</div>"
      ],
      "text/plain": [
       "       acousticness  danceability   duration_ms       energy  \\\n",
       "count   6957.000000   6957.000000  6.957000e+03  6957.000000   \n",
       "mean       0.289448      0.645993  1.997040e+05     0.590962   \n",
       "std        0.301331      0.164421  5.538809e+04     0.217748   \n",
       "min        0.000004      0.000000  3.113600e+04     0.000900   \n",
       "25%        0.040400      0.544000  1.705390e+05     0.466000   \n",
       "50%        0.165000      0.669000  1.980000e+05     0.611000   \n",
       "75%        0.476000      0.765000  2.257320e+05     0.752000   \n",
       "max        0.996000      0.985000  1.355938e+06     0.996000   \n",
       "\n",
       "       instrumentalness          key     liveness     loudness         mode  \\\n",
       "count       6957.000000  6957.000000  6957.000000  6957.000000  6957.000000   \n",
       "mean           0.099679     5.266063     0.175151    -7.631607     0.599828   \n",
       "std            0.262109     3.619569     0.135277     4.384584     0.489968   \n",
       "min            0.000000     0.000000     0.014900   -38.905000     0.000000   \n",
       "25%            0.000000     2.000000     0.098400    -8.810000     0.000000   \n",
       "50%            0.000002     5.000000     0.119000    -6.560000     1.000000   \n",
       "75%            0.000901     8.000000     0.203000    -4.995000     1.000000   \n",
       "max            0.993000    11.000000     0.979000     0.598000     1.000000   \n",
       "\n",
       "       speechiness        tempo  time_signature      valence  \n",
       "count  6957.000000  6957.000000     6957.000000  6957.000000  \n",
       "mean      0.125064   120.867503        3.926549     0.444842  \n",
       "std       0.121590    30.171677        0.384330     0.228845  \n",
       "min       0.000000     0.000000        0.000000     0.000000  \n",
       "25%       0.041100    96.002000        4.000000     0.264000  \n",
       "50%       0.067500   120.043000        4.000000     0.431000  \n",
       "75%       0.174000   142.086000        4.000000     0.612000  \n",
       "max       0.966000   216.115000        5.000000     0.980000  "
      ]
     },
     "execution_count": 18,
     "metadata": {},
     "output_type": "execute_result"
    }
   ],
   "source": [
    "aud.describe()"
   ]
  },
  {
   "cell_type": "code",
   "execution_count": 19,
   "metadata": {},
   "outputs": [],
   "source": [
    "dat = dat.rename(columns={'track_id':'id'})"
   ]
  },
  {
   "cell_type": "code",
   "execution_count": 20,
   "metadata": {},
   "outputs": [],
   "source": [
    "fdt = pd.merge(dat, aud, on='id', how='inner')"
   ]
  },
  {
   "cell_type": "code",
   "execution_count": 21,
   "metadata": {},
   "outputs": [
    {
     "data": {
      "text/html": [
       "<div>\n",
       "<style scoped>\n",
       "    .dataframe tbody tr th:only-of-type {\n",
       "        vertical-align: middle;\n",
       "    }\n",
       "\n",
       "    .dataframe tbody tr th {\n",
       "        vertical-align: top;\n",
       "    }\n",
       "\n",
       "    .dataframe thead th {\n",
       "        text-align: right;\n",
       "    }\n",
       "</style>\n",
       "<table border=\"1\" class=\"dataframe\">\n",
       "  <thead>\n",
       "    <tr style=\"text-align: right;\">\n",
       "      <th></th>\n",
       "      <th>artist</th>\n",
       "      <th>track</th>\n",
       "      <th>id</th>\n",
       "      <th>popularity</th>\n",
       "      <th>acousticness</th>\n",
       "      <th>analysis_url</th>\n",
       "      <th>danceability</th>\n",
       "      <th>duration_ms</th>\n",
       "      <th>energy</th>\n",
       "      <th>instrumentalness</th>\n",
       "      <th>...</th>\n",
       "      <th>liveness</th>\n",
       "      <th>loudness</th>\n",
       "      <th>mode</th>\n",
       "      <th>speechiness</th>\n",
       "      <th>tempo</th>\n",
       "      <th>time_signature</th>\n",
       "      <th>track_href</th>\n",
       "      <th>type</th>\n",
       "      <th>uri</th>\n",
       "      <th>valence</th>\n",
       "    </tr>\n",
       "  </thead>\n",
       "  <tbody>\n",
       "    <tr>\n",
       "      <th>0</th>\n",
       "      <td>Post Malone</td>\n",
       "      <td>Sunflower - Spider-Man: Into the Spider-Verse</td>\n",
       "      <td>3KkXRkHbMCARz0aVfEt68P</td>\n",
       "      <td>98</td>\n",
       "      <td>0.556</td>\n",
       "      <td>https://api.spotify.com/v1/audio-analysis/3KkX...</td>\n",
       "      <td>0.760</td>\n",
       "      <td>158040</td>\n",
       "      <td>0.479</td>\n",
       "      <td>0.000000</td>\n",
       "      <td>...</td>\n",
       "      <td>0.0703</td>\n",
       "      <td>-5.574</td>\n",
       "      <td>1</td>\n",
       "      <td>0.0466</td>\n",
       "      <td>89.911</td>\n",
       "      <td>4</td>\n",
       "      <td>https://api.spotify.com/v1/tracks/3KkXRkHbMCAR...</td>\n",
       "      <td>audio_features</td>\n",
       "      <td>spotify:track:3KkXRkHbMCARz0aVfEt68P</td>\n",
       "      <td>0.913</td>\n",
       "    </tr>\n",
       "    <tr>\n",
       "      <th>1</th>\n",
       "      <td>Los Unidades</td>\n",
       "      <td>E-Lo (feat. Jozzy)</td>\n",
       "      <td>3eydp9rHJAskzOevEBK267</td>\n",
       "      <td>68</td>\n",
       "      <td>0.469</td>\n",
       "      <td>https://api.spotify.com/v1/audio-analysis/3eyd...</td>\n",
       "      <td>0.698</td>\n",
       "      <td>214720</td>\n",
       "      <td>0.797</td>\n",
       "      <td>0.001180</td>\n",
       "      <td>...</td>\n",
       "      <td>0.1520</td>\n",
       "      <td>-5.125</td>\n",
       "      <td>0</td>\n",
       "      <td>0.0615</td>\n",
       "      <td>101.969</td>\n",
       "      <td>4</td>\n",
       "      <td>https://api.spotify.com/v1/tracks/3eydp9rHJAsk...</td>\n",
       "      <td>audio_features</td>\n",
       "      <td>spotify:track:3eydp9rHJAskzOevEBK267</td>\n",
       "      <td>0.530</td>\n",
       "    </tr>\n",
       "    <tr>\n",
       "      <th>2</th>\n",
       "      <td>Post Malone</td>\n",
       "      <td>Wow.</td>\n",
       "      <td>6MWtB6iiXyIwun0YzU6DFP</td>\n",
       "      <td>98</td>\n",
       "      <td>0.163</td>\n",
       "      <td>https://api.spotify.com/v1/audio-analysis/6MWt...</td>\n",
       "      <td>0.833</td>\n",
       "      <td>149520</td>\n",
       "      <td>0.539</td>\n",
       "      <td>0.000002</td>\n",
       "      <td>...</td>\n",
       "      <td>0.1010</td>\n",
       "      <td>-7.399</td>\n",
       "      <td>0</td>\n",
       "      <td>0.1780</td>\n",
       "      <td>99.947</td>\n",
       "      <td>4</td>\n",
       "      <td>https://api.spotify.com/v1/tracks/6MWtB6iiXyIw...</td>\n",
       "      <td>audio_features</td>\n",
       "      <td>spotify:track:6MWtB6iiXyIwun0YzU6DFP</td>\n",
       "      <td>0.385</td>\n",
       "    </tr>\n",
       "    <tr>\n",
       "      <th>3</th>\n",
       "      <td>Meek Mill</td>\n",
       "      <td>Going Bad (feat. Drake)</td>\n",
       "      <td>2IRZnDFmlqMuOrYOLnZZyc</td>\n",
       "      <td>94</td>\n",
       "      <td>0.259</td>\n",
       "      <td>https://api.spotify.com/v1/audio-analysis/2IRZ...</td>\n",
       "      <td>0.889</td>\n",
       "      <td>180522</td>\n",
       "      <td>0.496</td>\n",
       "      <td>0.000000</td>\n",
       "      <td>...</td>\n",
       "      <td>0.2520</td>\n",
       "      <td>-6.365</td>\n",
       "      <td>0</td>\n",
       "      <td>0.0905</td>\n",
       "      <td>86.003</td>\n",
       "      <td>4</td>\n",
       "      <td>https://api.spotify.com/v1/tracks/2IRZnDFmlqMu...</td>\n",
       "      <td>audio_features</td>\n",
       "      <td>spotify:track:2IRZnDFmlqMuOrYOLnZZyc</td>\n",
       "      <td>0.544</td>\n",
       "    </tr>\n",
       "    <tr>\n",
       "      <th>4</th>\n",
       "      <td>Halsey</td>\n",
       "      <td>Without Me</td>\n",
       "      <td>5p7ujcrUXASCNwRaWNHR1C</td>\n",
       "      <td>97</td>\n",
       "      <td>0.297</td>\n",
       "      <td>https://api.spotify.com/v1/audio-analysis/5p7u...</td>\n",
       "      <td>0.752</td>\n",
       "      <td>201661</td>\n",
       "      <td>0.488</td>\n",
       "      <td>0.000009</td>\n",
       "      <td>...</td>\n",
       "      <td>0.0936</td>\n",
       "      <td>-7.050</td>\n",
       "      <td>1</td>\n",
       "      <td>0.0705</td>\n",
       "      <td>136.041</td>\n",
       "      <td>4</td>\n",
       "      <td>https://api.spotify.com/v1/tracks/5p7ujcrUXASC...</td>\n",
       "      <td>audio_features</td>\n",
       "      <td>spotify:track:5p7ujcrUXASCNwRaWNHR1C</td>\n",
       "      <td>0.533</td>\n",
       "    </tr>\n",
       "  </tbody>\n",
       "</table>\n",
       "<p>5 rows × 21 columns</p>\n",
       "</div>"
      ],
      "text/plain": [
       "         artist                                          track  \\\n",
       "0   Post Malone  Sunflower - Spider-Man: Into the Spider-Verse   \n",
       "1  Los Unidades                             E-Lo (feat. Jozzy)   \n",
       "2   Post Malone                                           Wow.   \n",
       "3     Meek Mill                        Going Bad (feat. Drake)   \n",
       "4        Halsey                                     Without Me   \n",
       "\n",
       "                       id  popularity  acousticness  \\\n",
       "0  3KkXRkHbMCARz0aVfEt68P          98         0.556   \n",
       "1  3eydp9rHJAskzOevEBK267          68         0.469   \n",
       "2  6MWtB6iiXyIwun0YzU6DFP          98         0.163   \n",
       "3  2IRZnDFmlqMuOrYOLnZZyc          94         0.259   \n",
       "4  5p7ujcrUXASCNwRaWNHR1C          97         0.297   \n",
       "\n",
       "                                        analysis_url  danceability  \\\n",
       "0  https://api.spotify.com/v1/audio-analysis/3KkX...         0.760   \n",
       "1  https://api.spotify.com/v1/audio-analysis/3eyd...         0.698   \n",
       "2  https://api.spotify.com/v1/audio-analysis/6MWt...         0.833   \n",
       "3  https://api.spotify.com/v1/audio-analysis/2IRZ...         0.889   \n",
       "4  https://api.spotify.com/v1/audio-analysis/5p7u...         0.752   \n",
       "\n",
       "   duration_ms  energy  instrumentalness   ...    liveness  loudness  mode  \\\n",
       "0       158040   0.479          0.000000   ...      0.0703    -5.574     1   \n",
       "1       214720   0.797          0.001180   ...      0.1520    -5.125     0   \n",
       "2       149520   0.539          0.000002   ...      0.1010    -7.399     0   \n",
       "3       180522   0.496          0.000000   ...      0.2520    -6.365     0   \n",
       "4       201661   0.488          0.000009   ...      0.0936    -7.050     1   \n",
       "\n",
       "   speechiness    tempo  time_signature  \\\n",
       "0       0.0466   89.911               4   \n",
       "1       0.0615  101.969               4   \n",
       "2       0.1780   99.947               4   \n",
       "3       0.0905   86.003               4   \n",
       "4       0.0705  136.041               4   \n",
       "\n",
       "                                          track_href            type  \\\n",
       "0  https://api.spotify.com/v1/tracks/3KkXRkHbMCAR...  audio_features   \n",
       "1  https://api.spotify.com/v1/tracks/3eydp9rHJAsk...  audio_features   \n",
       "2  https://api.spotify.com/v1/tracks/6MWtB6iiXyIw...  audio_features   \n",
       "3  https://api.spotify.com/v1/tracks/2IRZnDFmlqMu...  audio_features   \n",
       "4  https://api.spotify.com/v1/tracks/5p7ujcrUXASC...  audio_features   \n",
       "\n",
       "                                    uri valence  \n",
       "0  spotify:track:3KkXRkHbMCARz0aVfEt68P   0.913  \n",
       "1  spotify:track:3eydp9rHJAskzOevEBK267   0.530  \n",
       "2  spotify:track:6MWtB6iiXyIwun0YzU6DFP   0.385  \n",
       "3  spotify:track:2IRZnDFmlqMuOrYOLnZZyc   0.544  \n",
       "4  spotify:track:5p7ujcrUXASCNwRaWNHR1C   0.533  \n",
       "\n",
       "[5 rows x 21 columns]"
      ]
     },
     "execution_count": 21,
     "metadata": {},
     "output_type": "execute_result"
    }
   ],
   "source": [
    "fdt.head()"
   ]
  },
  {
   "cell_type": "code",
   "execution_count": 22,
   "metadata": {},
   "outputs": [
    {
     "data": {
      "text/plain": [
       "(6957, 21)"
      ]
     },
     "execution_count": 22,
     "metadata": {},
     "output_type": "execute_result"
    }
   ],
   "source": [
    "fdt.shape"
   ]
  },
  {
   "cell_type": "code",
   "execution_count": 23,
   "metadata": {},
   "outputs": [
    {
     "data": {
      "text/html": [
       "<div>\n",
       "<style scoped>\n",
       "    .dataframe tbody tr th:only-of-type {\n",
       "        vertical-align: middle;\n",
       "    }\n",
       "\n",
       "    .dataframe tbody tr th {\n",
       "        vertical-align: top;\n",
       "    }\n",
       "\n",
       "    .dataframe thead th {\n",
       "        text-align: right;\n",
       "    }\n",
       "</style>\n",
       "<table border=\"1\" class=\"dataframe\">\n",
       "  <thead>\n",
       "    <tr style=\"text-align: right;\">\n",
       "      <th></th>\n",
       "      <th>popularity</th>\n",
       "      <th>acousticness</th>\n",
       "      <th>danceability</th>\n",
       "      <th>duration_ms</th>\n",
       "      <th>energy</th>\n",
       "      <th>instrumentalness</th>\n",
       "      <th>key</th>\n",
       "      <th>liveness</th>\n",
       "      <th>loudness</th>\n",
       "      <th>mode</th>\n",
       "      <th>speechiness</th>\n",
       "      <th>tempo</th>\n",
       "      <th>time_signature</th>\n",
       "      <th>valence</th>\n",
       "    </tr>\n",
       "  </thead>\n",
       "  <tbody>\n",
       "    <tr>\n",
       "      <th>count</th>\n",
       "      <td>6957.000000</td>\n",
       "      <td>6957.000000</td>\n",
       "      <td>6957.000000</td>\n",
       "      <td>6.957000e+03</td>\n",
       "      <td>6957.000000</td>\n",
       "      <td>6957.000000</td>\n",
       "      <td>6957.000000</td>\n",
       "      <td>6957.000000</td>\n",
       "      <td>6957.000000</td>\n",
       "      <td>6957.000000</td>\n",
       "      <td>6957.000000</td>\n",
       "      <td>6957.000000</td>\n",
       "      <td>6957.000000</td>\n",
       "      <td>6957.000000</td>\n",
       "    </tr>\n",
       "    <tr>\n",
       "      <th>mean</th>\n",
       "      <td>60.392842</td>\n",
       "      <td>0.289448</td>\n",
       "      <td>0.645993</td>\n",
       "      <td>1.997040e+05</td>\n",
       "      <td>0.590962</td>\n",
       "      <td>0.099679</td>\n",
       "      <td>5.266063</td>\n",
       "      <td>0.175151</td>\n",
       "      <td>-7.631607</td>\n",
       "      <td>0.599828</td>\n",
       "      <td>0.125064</td>\n",
       "      <td>120.867503</td>\n",
       "      <td>3.926549</td>\n",
       "      <td>0.444842</td>\n",
       "    </tr>\n",
       "    <tr>\n",
       "      <th>std</th>\n",
       "      <td>9.034766</td>\n",
       "      <td>0.301331</td>\n",
       "      <td>0.164421</td>\n",
       "      <td>5.538809e+04</td>\n",
       "      <td>0.217748</td>\n",
       "      <td>0.262109</td>\n",
       "      <td>3.619569</td>\n",
       "      <td>0.135277</td>\n",
       "      <td>4.384584</td>\n",
       "      <td>0.489968</td>\n",
       "      <td>0.121590</td>\n",
       "      <td>30.171677</td>\n",
       "      <td>0.384330</td>\n",
       "      <td>0.228845</td>\n",
       "    </tr>\n",
       "    <tr>\n",
       "      <th>min</th>\n",
       "      <td>45.000000</td>\n",
       "      <td>0.000004</td>\n",
       "      <td>0.000000</td>\n",
       "      <td>3.113600e+04</td>\n",
       "      <td>0.000900</td>\n",
       "      <td>0.000000</td>\n",
       "      <td>0.000000</td>\n",
       "      <td>0.014900</td>\n",
       "      <td>-38.905000</td>\n",
       "      <td>0.000000</td>\n",
       "      <td>0.000000</td>\n",
       "      <td>0.000000</td>\n",
       "      <td>0.000000</td>\n",
       "      <td>0.000000</td>\n",
       "    </tr>\n",
       "    <tr>\n",
       "      <th>25%</th>\n",
       "      <td>53.000000</td>\n",
       "      <td>0.040400</td>\n",
       "      <td>0.544000</td>\n",
       "      <td>1.705390e+05</td>\n",
       "      <td>0.466000</td>\n",
       "      <td>0.000000</td>\n",
       "      <td>2.000000</td>\n",
       "      <td>0.098400</td>\n",
       "      <td>-8.810000</td>\n",
       "      <td>0.000000</td>\n",
       "      <td>0.041100</td>\n",
       "      <td>96.002000</td>\n",
       "      <td>4.000000</td>\n",
       "      <td>0.264000</td>\n",
       "    </tr>\n",
       "    <tr>\n",
       "      <th>50%</th>\n",
       "      <td>59.000000</td>\n",
       "      <td>0.165000</td>\n",
       "      <td>0.669000</td>\n",
       "      <td>1.980000e+05</td>\n",
       "      <td>0.611000</td>\n",
       "      <td>0.000002</td>\n",
       "      <td>5.000000</td>\n",
       "      <td>0.119000</td>\n",
       "      <td>-6.560000</td>\n",
       "      <td>1.000000</td>\n",
       "      <td>0.067500</td>\n",
       "      <td>120.043000</td>\n",
       "      <td>4.000000</td>\n",
       "      <td>0.431000</td>\n",
       "    </tr>\n",
       "    <tr>\n",
       "      <th>75%</th>\n",
       "      <td>66.000000</td>\n",
       "      <td>0.476000</td>\n",
       "      <td>0.765000</td>\n",
       "      <td>2.257320e+05</td>\n",
       "      <td>0.752000</td>\n",
       "      <td>0.000901</td>\n",
       "      <td>8.000000</td>\n",
       "      <td>0.203000</td>\n",
       "      <td>-4.995000</td>\n",
       "      <td>1.000000</td>\n",
       "      <td>0.174000</td>\n",
       "      <td>142.086000</td>\n",
       "      <td>4.000000</td>\n",
       "      <td>0.612000</td>\n",
       "    </tr>\n",
       "    <tr>\n",
       "      <th>max</th>\n",
       "      <td>98.000000</td>\n",
       "      <td>0.996000</td>\n",
       "      <td>0.985000</td>\n",
       "      <td>1.355938e+06</td>\n",
       "      <td>0.996000</td>\n",
       "      <td>0.993000</td>\n",
       "      <td>11.000000</td>\n",
       "      <td>0.979000</td>\n",
       "      <td>0.598000</td>\n",
       "      <td>1.000000</td>\n",
       "      <td>0.966000</td>\n",
       "      <td>216.115000</td>\n",
       "      <td>5.000000</td>\n",
       "      <td>0.980000</td>\n",
       "    </tr>\n",
       "  </tbody>\n",
       "</table>\n",
       "</div>"
      ],
      "text/plain": [
       "        popularity  acousticness  danceability   duration_ms       energy  \\\n",
       "count  6957.000000   6957.000000   6957.000000  6.957000e+03  6957.000000   \n",
       "mean     60.392842      0.289448      0.645993  1.997040e+05     0.590962   \n",
       "std       9.034766      0.301331      0.164421  5.538809e+04     0.217748   \n",
       "min      45.000000      0.000004      0.000000  3.113600e+04     0.000900   \n",
       "25%      53.000000      0.040400      0.544000  1.705390e+05     0.466000   \n",
       "50%      59.000000      0.165000      0.669000  1.980000e+05     0.611000   \n",
       "75%      66.000000      0.476000      0.765000  2.257320e+05     0.752000   \n",
       "max      98.000000      0.996000      0.985000  1.355938e+06     0.996000   \n",
       "\n",
       "       instrumentalness          key     liveness     loudness         mode  \\\n",
       "count       6957.000000  6957.000000  6957.000000  6957.000000  6957.000000   \n",
       "mean           0.099679     5.266063     0.175151    -7.631607     0.599828   \n",
       "std            0.262109     3.619569     0.135277     4.384584     0.489968   \n",
       "min            0.000000     0.000000     0.014900   -38.905000     0.000000   \n",
       "25%            0.000000     2.000000     0.098400    -8.810000     0.000000   \n",
       "50%            0.000002     5.000000     0.119000    -6.560000     1.000000   \n",
       "75%            0.000901     8.000000     0.203000    -4.995000     1.000000   \n",
       "max            0.993000    11.000000     0.979000     0.598000     1.000000   \n",
       "\n",
       "       speechiness        tempo  time_signature      valence  \n",
       "count  6957.000000  6957.000000     6957.000000  6957.000000  \n",
       "mean      0.125064   120.867503        3.926549     0.444842  \n",
       "std       0.121590    30.171677        0.384330     0.228845  \n",
       "min       0.000000     0.000000        0.000000     0.000000  \n",
       "25%       0.041100    96.002000        4.000000     0.264000  \n",
       "50%       0.067500   120.043000        4.000000     0.431000  \n",
       "75%       0.174000   142.086000        4.000000     0.612000  \n",
       "max       0.966000   216.115000        5.000000     0.980000  "
      ]
     },
     "execution_count": 23,
     "metadata": {},
     "output_type": "execute_result"
    }
   ],
   "source": [
    "fdt.describe()"
   ]
  },
  {
   "cell_type": "code",
   "execution_count": 24,
   "metadata": {},
   "outputs": [
    {
     "data": {
      "image/png": "[encoded data removed]",
      "text/plain": [
       "<Figure size 1296x288 with 1 Axes>"
      ]
     },
     "metadata": {
      "needs_background": "light"
     },
     "output_type": "display_data"
    }
   ],
   "source": [
    "plt.figure(figsize=(18,4))\n",
    "plt.bar(np.arange(fdt.shape[0]), fdt['danceability'], alpha=0.5, label='Danceability')\n",
    "plt.legend(ncol=2, loc='center', bbox_to_anchor=(0.5, 1.1))\n",
    "plt.ylabel('Danceability')\n",
    "plt.xlabel('Tracks')\n",
    "plt.show()"
   ]
  },
  {
   "cell_type": "code",
   "execution_count": 25,
   "metadata": {},
   "outputs": [
    {
     "data": {
      "image/png": "[encoded data removed]",
      "text/plain": [
       "<Figure size 1296x288 with 1 Axes>"
      ]
     },
     "metadata": {
      "needs_background": "light"
     },
     "output_type": "display_data"
    }
   ],
   "source": [
    "plt.figure(figsize=(18,4))\n",
    "plt.bar(np.arange(fdt.shape[0]), fdt['energy'], alpha=0.5, label='energy')\n",
    "plt.legend(ncol=2, loc='center', bbox_to_anchor=(0.5, 1.1))\n",
    "plt.ylabel('Energy')\n",
    "plt.xlabel('Tracks')\n",
    "plt.show()"
   ]
  },
  {
   "cell_type": "code",
   "execution_count": 26,
   "metadata": {},
   "outputs": [
    {
     "data": {
      "text/plain": [
       "Index(['artist', 'track', 'id', 'popularity', 'acousticness', 'analysis_url',\n",
       "       'danceability', 'duration_ms', 'energy', 'instrumentalness', 'key',\n",
       "       'liveness', 'loudness', 'mode', 'speechiness', 'tempo',\n",
       "       'time_signature', 'track_href', 'type', 'uri', 'valence'],\n",
       "      dtype='object')"
      ]
     },
     "execution_count": 26,
     "metadata": {},
     "output_type": "execute_result"
    }
   ],
   "source": [
    "fdt.columns"
   ]
  },
  {
   "cell_type": "code",
   "execution_count": 27,
   "metadata": {},
   "outputs": [],
   "source": [
    "fda = fdt[['popularity', 'acousticness', 'analysis_url',\n",
    "       'danceability', 'duration_ms', 'energy', 'instrumentalness', 'key',\n",
    "       'liveness', 'loudness', 'mode', 'speechiness', 'tempo',\n",
    "       'time_signature', 'valence']]"
   ]
  },
  {
   "cell_type": "code",
   "execution_count": 28,
   "metadata": {},
   "outputs": [
    {
     "data": {
      "image/png": "[encoded data removed]",
      "text/plain": [
       "<Figure size 1296x720 with 4 Axes>"
      ]
     },
     "metadata": {
      "needs_background": "light"
     },
     "output_type": "display_data"
    }
   ],
   "source": [
    "cor = fda.corr()\n",
    "cor = pd.DataFrame(np.round(cor.values*100).astype('int').clip(max=99), columns=cor.columns, index=cor.index)\n",
    "cmp = sns.clustermap(cor, cmap='Greys', annot=True, figsize=(18,10))\n",
    "_ = cmp.fig.suptitle('Correlation between features', y=0.925, size=14) \n",
    "_ = cmp.cax.set_visible(False)\n",
    "_ = cmp.ax_heatmap.set_xticks([])"
   ]
  },
  {
   "cell_type": "code",
   "execution_count": 29,
   "metadata": {},
   "outputs": [
    {
     "data": {
      "text/html": [
       "<div>\n",
       "<style scoped>\n",
       "    .dataframe tbody tr th:only-of-type {\n",
       "        vertical-align: middle;\n",
       "    }\n",
       "\n",
       "    .dataframe tbody tr th {\n",
       "        vertical-align: top;\n",
       "    }\n",
       "\n",
       "    .dataframe thead th {\n",
       "        text-align: right;\n",
       "    }\n",
       "</style>\n",
       "<table border=\"1\" class=\"dataframe\">\n",
       "  <thead>\n",
       "    <tr style=\"text-align: right;\">\n",
       "      <th></th>\n",
       "      <th>popularity</th>\n",
       "      <th>acousticness</th>\n",
       "      <th>analysis_url</th>\n",
       "      <th>danceability</th>\n",
       "      <th>duration_ms</th>\n",
       "      <th>energy</th>\n",
       "      <th>instrumentalness</th>\n",
       "      <th>key</th>\n",
       "      <th>liveness</th>\n",
       "      <th>loudness</th>\n",
       "      <th>mode</th>\n",
       "      <th>speechiness</th>\n",
       "      <th>tempo</th>\n",
       "      <th>time_signature</th>\n",
       "      <th>valence</th>\n",
       "    </tr>\n",
       "  </thead>\n",
       "  <tbody>\n",
       "    <tr>\n",
       "      <th>0</th>\n",
       "      <td>98</td>\n",
       "      <td>0.556</td>\n",
       "      <td>https://api.spotify.com/v1/audio-analysis/3KkX...</td>\n",
       "      <td>0.760</td>\n",
       "      <td>158040</td>\n",
       "      <td>0.479</td>\n",
       "      <td>0.000000</td>\n",
       "      <td>2</td>\n",
       "      <td>0.0703</td>\n",
       "      <td>-5.574</td>\n",
       "      <td>1</td>\n",
       "      <td>0.0466</td>\n",
       "      <td>89.911</td>\n",
       "      <td>4</td>\n",
       "      <td>0.913</td>\n",
       "    </tr>\n",
       "    <tr>\n",
       "      <th>1</th>\n",
       "      <td>68</td>\n",
       "      <td>0.469</td>\n",
       "      <td>https://api.spotify.com/v1/audio-analysis/3eyd...</td>\n",
       "      <td>0.698</td>\n",
       "      <td>214720</td>\n",
       "      <td>0.797</td>\n",
       "      <td>0.001180</td>\n",
       "      <td>3</td>\n",
       "      <td>0.1520</td>\n",
       "      <td>-5.125</td>\n",
       "      <td>0</td>\n",
       "      <td>0.0615</td>\n",
       "      <td>101.969</td>\n",
       "      <td>4</td>\n",
       "      <td>0.530</td>\n",
       "    </tr>\n",
       "    <tr>\n",
       "      <th>2</th>\n",
       "      <td>98</td>\n",
       "      <td>0.163</td>\n",
       "      <td>https://api.spotify.com/v1/audio-analysis/6MWt...</td>\n",
       "      <td>0.833</td>\n",
       "      <td>149520</td>\n",
       "      <td>0.539</td>\n",
       "      <td>0.000002</td>\n",
       "      <td>11</td>\n",
       "      <td>0.1010</td>\n",
       "      <td>-7.399</td>\n",
       "      <td>0</td>\n",
       "      <td>0.1780</td>\n",
       "      <td>99.947</td>\n",
       "      <td>4</td>\n",
       "      <td>0.385</td>\n",
       "    </tr>\n",
       "    <tr>\n",
       "      <th>3</th>\n",
       "      <td>94</td>\n",
       "      <td>0.259</td>\n",
       "      <td>https://api.spotify.com/v1/audio-analysis/2IRZ...</td>\n",
       "      <td>0.889</td>\n",
       "      <td>180522</td>\n",
       "      <td>0.496</td>\n",
       "      <td>0.000000</td>\n",
       "      <td>4</td>\n",
       "      <td>0.2520</td>\n",
       "      <td>-6.365</td>\n",
       "      <td>0</td>\n",
       "      <td>0.0905</td>\n",
       "      <td>86.003</td>\n",
       "      <td>4</td>\n",
       "      <td>0.544</td>\n",
       "    </tr>\n",
       "    <tr>\n",
       "      <th>4</th>\n",
       "      <td>97</td>\n",
       "      <td>0.297</td>\n",
       "      <td>https://api.spotify.com/v1/audio-analysis/5p7u...</td>\n",
       "      <td>0.752</td>\n",
       "      <td>201661</td>\n",
       "      <td>0.488</td>\n",
       "      <td>0.000009</td>\n",
       "      <td>6</td>\n",
       "      <td>0.0936</td>\n",
       "      <td>-7.050</td>\n",
       "      <td>1</td>\n",
       "      <td>0.0705</td>\n",
       "      <td>136.041</td>\n",
       "      <td>4</td>\n",
       "      <td>0.533</td>\n",
       "    </tr>\n",
       "  </tbody>\n",
       "</table>\n",
       "</div>"
      ],
      "text/plain": [
       "   popularity  acousticness  \\\n",
       "0          98         0.556   \n",
       "1          68         0.469   \n",
       "2          98         0.163   \n",
       "3          94         0.259   \n",
       "4          97         0.297   \n",
       "\n",
       "                                        analysis_url  danceability  \\\n",
       "0  https://api.spotify.com/v1/audio-analysis/3KkX...         0.760   \n",
       "1  https://api.spotify.com/v1/audio-analysis/3eyd...         0.698   \n",
       "2  https://api.spotify.com/v1/audio-analysis/6MWt...         0.833   \n",
       "3  https://api.spotify.com/v1/audio-analysis/2IRZ...         0.889   \n",
       "4  https://api.spotify.com/v1/audio-analysis/5p7u...         0.752   \n",
       "\n",
       "   duration_ms  energy  instrumentalness  key  liveness  loudness  mode  \\\n",
       "0       158040   0.479          0.000000    2    0.0703    -5.574     1   \n",
       "1       214720   0.797          0.001180    3    0.1520    -5.125     0   \n",
       "2       149520   0.539          0.000002   11    0.1010    -7.399     0   \n",
       "3       180522   0.496          0.000000    4    0.2520    -6.365     0   \n",
       "4       201661   0.488          0.000009    6    0.0936    -7.050     1   \n",
       "\n",
       "   speechiness    tempo  time_signature  valence  \n",
       "0       0.0466   89.911               4    0.913  \n",
       "1       0.0615  101.969               4    0.530  \n",
       "2       0.1780   99.947               4    0.385  \n",
       "3       0.0905   86.003               4    0.544  \n",
       "4       0.0705  136.041               4    0.533  "
      ]
     },
     "execution_count": 29,
     "metadata": {},
     "output_type": "execute_result"
    }
   ],
   "source": [
    "fda.head()"
   ]
  },
  {
   "cell_type": "code",
   "execution_count": 30,
   "metadata": {},
   "outputs": [
    {
     "data": {
      "text/html": [
       "<div>\n",
       "<style scoped>\n",
       "    .dataframe tbody tr th:only-of-type {\n",
       "        vertical-align: middle;\n",
       "    }\n",
       "\n",
       "    .dataframe tbody tr th {\n",
       "        vertical-align: top;\n",
       "    }\n",
       "\n",
       "    .dataframe thead th {\n",
       "        text-align: right;\n",
       "    }\n",
       "</style>\n",
       "<table border=\"1\" class=\"dataframe\">\n",
       "  <thead>\n",
       "    <tr style=\"text-align: right;\">\n",
       "      <th></th>\n",
       "      <th>popularity</th>\n",
       "      <th>acousticness</th>\n",
       "      <th>danceability</th>\n",
       "      <th>duration_ms</th>\n",
       "      <th>energy</th>\n",
       "      <th>instrumentalness</th>\n",
       "      <th>key</th>\n",
       "      <th>liveness</th>\n",
       "      <th>loudness</th>\n",
       "      <th>mode</th>\n",
       "      <th>speechiness</th>\n",
       "      <th>tempo</th>\n",
       "      <th>time_signature</th>\n",
       "      <th>valence</th>\n",
       "    </tr>\n",
       "  </thead>\n",
       "  <tbody>\n",
       "    <tr>\n",
       "      <th>count</th>\n",
       "      <td>6957.000000</td>\n",
       "      <td>6957.000000</td>\n",
       "      <td>6957.000000</td>\n",
       "      <td>6.957000e+03</td>\n",
       "      <td>6957.000000</td>\n",
       "      <td>6957.000000</td>\n",
       "      <td>6957.000000</td>\n",
       "      <td>6957.000000</td>\n",
       "      <td>6957.000000</td>\n",
       "      <td>6957.000000</td>\n",
       "      <td>6957.000000</td>\n",
       "      <td>6957.000000</td>\n",
       "      <td>6957.000000</td>\n",
       "      <td>6957.000000</td>\n",
       "    </tr>\n",
       "    <tr>\n",
       "      <th>mean</th>\n",
       "      <td>60.392842</td>\n",
       "      <td>0.289448</td>\n",
       "      <td>0.645993</td>\n",
       "      <td>1.997040e+05</td>\n",
       "      <td>0.590962</td>\n",
       "      <td>0.099679</td>\n",
       "      <td>5.266063</td>\n",
       "      <td>0.175151</td>\n",
       "      <td>-7.631607</td>\n",
       "      <td>0.599828</td>\n",
       "      <td>0.125064</td>\n",
       "      <td>120.867503</td>\n",
       "      <td>3.926549</td>\n",
       "      <td>0.444842</td>\n",
       "    </tr>\n",
       "    <tr>\n",
       "      <th>std</th>\n",
       "      <td>9.034766</td>\n",
       "      <td>0.301331</td>\n",
       "      <td>0.164421</td>\n",
       "      <td>5.538809e+04</td>\n",
       "      <td>0.217748</td>\n",
       "      <td>0.262109</td>\n",
       "      <td>3.619569</td>\n",
       "      <td>0.135277</td>\n",
       "      <td>4.384584</td>\n",
       "      <td>0.489968</td>\n",
       "      <td>0.121590</td>\n",
       "      <td>30.171677</td>\n",
       "      <td>0.384330</td>\n",
       "      <td>0.228845</td>\n",
       "    </tr>\n",
       "    <tr>\n",
       "      <th>min</th>\n",
       "      <td>45.000000</td>\n",
       "      <td>0.000004</td>\n",
       "      <td>0.000000</td>\n",
       "      <td>3.113600e+04</td>\n",
       "      <td>0.000900</td>\n",
       "      <td>0.000000</td>\n",
       "      <td>0.000000</td>\n",
       "      <td>0.014900</td>\n",
       "      <td>-38.905000</td>\n",
       "      <td>0.000000</td>\n",
       "      <td>0.000000</td>\n",
       "      <td>0.000000</td>\n",
       "      <td>0.000000</td>\n",
       "      <td>0.000000</td>\n",
       "    </tr>\n",
       "    <tr>\n",
       "      <th>25%</th>\n",
       "      <td>53.000000</td>\n",
       "      <td>0.040400</td>\n",
       "      <td>0.544000</td>\n",
       "      <td>1.705390e+05</td>\n",
       "      <td>0.466000</td>\n",
       "      <td>0.000000</td>\n",
       "      <td>2.000000</td>\n",
       "      <td>0.098400</td>\n",
       "      <td>-8.810000</td>\n",
       "      <td>0.000000</td>\n",
       "      <td>0.041100</td>\n",
       "      <td>96.002000</td>\n",
       "      <td>4.000000</td>\n",
       "      <td>0.264000</td>\n",
       "    </tr>\n",
       "    <tr>\n",
       "      <th>50%</th>\n",
       "      <td>59.000000</td>\n",
       "      <td>0.165000</td>\n",
       "      <td>0.669000</td>\n",
       "      <td>1.980000e+05</td>\n",
       "      <td>0.611000</td>\n",
       "      <td>0.000002</td>\n",
       "      <td>5.000000</td>\n",
       "      <td>0.119000</td>\n",
       "      <td>-6.560000</td>\n",
       "      <td>1.000000</td>\n",
       "      <td>0.067500</td>\n",
       "      <td>120.043000</td>\n",
       "      <td>4.000000</td>\n",
       "      <td>0.431000</td>\n",
       "    </tr>\n",
       "    <tr>\n",
       "      <th>75%</th>\n",
       "      <td>66.000000</td>\n",
       "      <td>0.476000</td>\n",
       "      <td>0.765000</td>\n",
       "      <td>2.257320e+05</td>\n",
       "      <td>0.752000</td>\n",
       "      <td>0.000901</td>\n",
       "      <td>8.000000</td>\n",
       "      <td>0.203000</td>\n",
       "      <td>-4.995000</td>\n",
       "      <td>1.000000</td>\n",
       "      <td>0.174000</td>\n",
       "      <td>142.086000</td>\n",
       "      <td>4.000000</td>\n",
       "      <td>0.612000</td>\n",
       "    </tr>\n",
       "    <tr>\n",
       "      <th>max</th>\n",
       "      <td>98.000000</td>\n",
       "      <td>0.996000</td>\n",
       "      <td>0.985000</td>\n",
       "      <td>1.355938e+06</td>\n",
       "      <td>0.996000</td>\n",
       "      <td>0.993000</td>\n",
       "      <td>11.000000</td>\n",
       "      <td>0.979000</td>\n",
       "      <td>0.598000</td>\n",
       "      <td>1.000000</td>\n",
       "      <td>0.966000</td>\n",
       "      <td>216.115000</td>\n",
       "      <td>5.000000</td>\n",
       "      <td>0.980000</td>\n",
       "    </tr>\n",
       "  </tbody>\n",
       "</table>\n",
       "</div>"
      ],
      "text/plain": [
       "        popularity  acousticness  danceability   duration_ms       energy  \\\n",
       "count  6957.000000   6957.000000   6957.000000  6.957000e+03  6957.000000   \n",
       "mean     60.392842      0.289448      0.645993  1.997040e+05     0.590962   \n",
       "std       9.034766      0.301331      0.164421  5.538809e+04     0.217748   \n",
       "min      45.000000      0.000004      0.000000  3.113600e+04     0.000900   \n",
       "25%      53.000000      0.040400      0.544000  1.705390e+05     0.466000   \n",
       "50%      59.000000      0.165000      0.669000  1.980000e+05     0.611000   \n",
       "75%      66.000000      0.476000      0.765000  2.257320e+05     0.752000   \n",
       "max      98.000000      0.996000      0.985000  1.355938e+06     0.996000   \n",
       "\n",
       "       instrumentalness          key     liveness     loudness         mode  \\\n",
       "count       6957.000000  6957.000000  6957.000000  6957.000000  6957.000000   \n",
       "mean           0.099679     5.266063     0.175151    -7.631607     0.599828   \n",
       "std            0.262109     3.619569     0.135277     4.384584     0.489968   \n",
       "min            0.000000     0.000000     0.014900   -38.905000     0.000000   \n",
       "25%            0.000000     2.000000     0.098400    -8.810000     0.000000   \n",
       "50%            0.000002     5.000000     0.119000    -6.560000     1.000000   \n",
       "75%            0.000901     8.000000     0.203000    -4.995000     1.000000   \n",
       "max            0.993000    11.000000     0.979000     0.598000     1.000000   \n",
       "\n",
       "       speechiness        tempo  time_signature      valence  \n",
       "count  6957.000000  6957.000000     6957.000000  6957.000000  \n",
       "mean      0.125064   120.867503        3.926549     0.444842  \n",
       "std       0.121590    30.171677        0.384330     0.228845  \n",
       "min       0.000000     0.000000        0.000000     0.000000  \n",
       "25%       0.041100    96.002000        4.000000     0.264000  \n",
       "50%       0.067500   120.043000        4.000000     0.431000  \n",
       "75%       0.174000   142.086000        4.000000     0.612000  \n",
       "max       0.966000   216.115000        5.000000     0.980000  "
      ]
     },
     "execution_count": 30,
     "metadata": {},
     "output_type": "execute_result"
    }
   ],
   "source": [
    "fda.describe()"
   ]
  },
  {
   "cell_type": "code",
   "execution_count": 32,
   "metadata": {},
   "outputs": [],
   "source": [
    "fdam = fda[['popularity', 'acousticness', 'danceability', 'duration_ms', 'energy','instrumentalness','key', 'liveness', 'loudness', 'mode', 'speechiness', 'tempo', 'valence']]"
   ]
  },
  {
   "cell_type": "code",
   "execution_count": 35,
   "metadata": {},
   "outputs": [],
   "source": [
    "scaler = StandardScaler(with_std=False)\n",
    "mod = scaler.fit_transform(fdam.values)"
   ]
  },
  {
   "cell_type": "code",
   "execution_count": 37,
   "metadata": {},
   "outputs": [
    {
     "data": {
      "text/plain": [
       "(6957, 15)"
      ]
     },
     "execution_count": 37,
     "metadata": {},
     "output_type": "execute_result"
    }
   ],
   "source": [
    "fda.shape"
   ]
  },
  {
   "cell_type": "markdown",
   "metadata": {},
   "source": [
    "From this visualization, we can see that two very different small clusters appear: {acousticness - instrumentalness} and {energy - loudness}"
   ]
  },
  {
   "cell_type": "code",
   "execution_count": 40,
   "metadata": {},
   "outputs": [
    {
     "name": "stdout",
     "output_type": "stream",
     "text": [
      "Cluster 1 \n",
      " 730 \n",
      "\n",
      "\n",
      "Cluster 2 \n",
      " 58 \n",
      "\n",
      "\n",
      "Cluster 3 \n",
      " 884 \n",
      "\n",
      "\n",
      "Cluster 4 \n",
      " 2591 \n",
      "\n",
      "\n",
      "Cluster 5 \n",
      " 2694 \n",
      "\n",
      "\n"
     ]
    }
   ],
   "source": [
    "k = 5\n",
    "n = fda.shape[0]\n",
    "kmeans = KMeans(n_clusters=k, init='random')\n",
    "kmeans.fit(mod)\n",
    "clusters = []\n",
    "for j in range(0,k):\n",
    "    clusters.append([])\n",
    "for i in range(0,n):\n",
    "    clusters[kmeans.labels_[i]].append(i)\n",
    "#\n",
    "# Print out clusters size\n",
    "#\n",
    "for j in range(0,k):\n",
    "    print('Cluster {}'.format(j+1),'\\n', len(clusters[j]), '\\n\\n')"
   ]
  },
  {
   "cell_type": "code",
   "execution_count": 57,
   "metadata": {},
   "outputs": [],
   "source": [
    "Cluster1 = fda.iloc[clusters[0],:]\n",
    "Cluster2 = fda.iloc[clusters[1],:]\n",
    "Cluster3 = fda.iloc[clusters[2],:]\n",
    "Cluster4 = fda.iloc[clusters[3],:]\n",
    "Cluster5 = fda.iloc[clusters[4],:]"
   ]
  },
  {
   "cell_type": "code",
   "execution_count": 58,
   "metadata": {},
   "outputs": [
    {
     "data": {
      "text/plain": [
       "(730, 15)"
      ]
     },
     "execution_count": 58,
     "metadata": {},
     "output_type": "execute_result"
    }
   ],
   "source": [
    "Cluster1.shape"
   ]
  },
  {
   "cell_type": "code",
   "execution_count": 61,
   "metadata": {},
   "outputs": [
    {
     "data": {
      "image/png": "[encoded data removed]",
      "text/plain": [
       "<Figure size 1296x288 with 1 Axes>"
      ]
     },
     "metadata": {
      "needs_background": "light"
     },
     "output_type": "display_data"
    }
   ],
   "source": [
    "plt.figure(figsize=(18,4))\n",
    "plt.bar(np.arange(Cluster1.shape[0]), Cluster1['energy'], alpha=0.5, label='Cluster 1 Energy')\n",
    "plt.legend(ncol=2, loc='center', bbox_to_anchor=(0.5, 1.1))\n",
    "plt.ylabel('Energy')\n",
    "plt.xlabel('Tracks')\n",
    "plt.show()"
   ]
  },
  {
   "cell_type": "code",
   "execution_count": 62,
   "metadata": {},
   "outputs": [
    {
     "data": {
      "image/png": "[encoded data removed]",
      "text/plain": [
       "<Figure size 1296x288 with 1 Axes>"
      ]
     },
     "metadata": {
      "needs_background": "light"
     },
     "output_type": "display_data"
    }
   ],
   "source": [
    "plt.figure(figsize=(18,4))\n",
    "plt.bar(np.arange(Cluster2.shape[0]), Cluster2['energy'], alpha=0.5, label='Cluster 2 Energy')\n",
    "plt.legend(ncol=2, loc='center', bbox_to_anchor=(0.5, 1.1))\n",
    "plt.ylabel('Energy')\n",
    "plt.xlabel('Tracks')\n",
    "plt.show()"
   ]
  },
  {
   "cell_type": "code",
   "execution_count": 63,
   "metadata": {},
   "outputs": [
    {
     "data": {
      "image/png": "[encoded data removed]",
      "text/plain": [
       "<Figure size 1296x288 with 1 Axes>"
      ]
     },
     "metadata": {
      "needs_background": "light"
     },
     "output_type": "display_data"
    }
   ],
   "source": [
    "plt.figure(figsize=(18,4))\n",
    "plt.bar(np.arange(Cluster3.shape[0]), Cluster3['energy'], alpha=0.5, label='Cluster 3 Energy')\n",
    "plt.legend(ncol=2, loc='center', bbox_to_anchor=(0.5, 1.1))\n",
    "plt.ylabel('Energy')\n",
    "plt.xlabel('Tracks')\n",
    "plt.show()"
   ]
  },
  {
   "cell_type": "code",
   "execution_count": 64,
   "metadata": {},
   "outputs": [
    {
     "data": {
      "image/png": "[encoded data removed]",
      "text/plain": [
       "<Figure size 1296x288 with 1 Axes>"
      ]
     },
     "metadata": {
      "needs_background": "light"
     },
     "output_type": "display_data"
    }
   ],
   "source": [
    "plt.figure(figsize=(18,4))\n",
    "plt.bar(np.arange(Cluster4.shape[0]), Cluster4['energy'], alpha=0.5, label='Cluster 4 Energy')\n",
    "plt.legend(ncol=2, loc='center', bbox_to_anchor=(0.5, 1.1))\n",
    "plt.ylabel('Energy')\n",
    "plt.xlabel('Tracks')\n",
    "plt.show()"
   ]
  },
  {
   "cell_type": "code",
   "execution_count": 65,
   "metadata": {},
   "outputs": [
    {
     "data": {
      "image/png": "[encoded data removed]",
      "text/plain": [
       "<Figure size 1296x288 with 1 Axes>"
      ]
     },
     "metadata": {
      "needs_background": "light"
     },
     "output_type": "display_data"
    }
   ],
   "source": [
    "plt.figure(figsize=(18,4))\n",
    "plt.bar(np.arange(Cluster5.shape[0]), Cluster5['energy'], alpha=0.5, label='Cluster 5 Energy')\n",
    "plt.legend(ncol=2, loc='center', bbox_to_anchor=(0.5, 1.1))\n",
    "plt.ylabel('Energy')\n",
    "plt.xlabel('Tracks')\n",
    "plt.show()"
   ]
  },
  {
   "cell_type": "code",
   "execution_count": 69,
   "metadata": {},
   "outputs": [
    {
     "name": "stdout",
     "output_type": "stream",
     "text": [
      "Mean energy of cluster1 : 0.6002944794520554 \n",
      "\n",
      " Mean energy of cluster 2:  0.5293293103448274 \n",
      "\n",
      " Mean energy of cluster 3:  0.4637927714932123 \n",
      "\n",
      " Mean energy of cluster 4:  0.6235593245851019 \n",
      "\n",
      " Mean energy of cluster 5:  0.6001377319970301\n"
     ]
    }
   ],
   "source": [
    "print('Mean energy of cluster1 :', Cluster1['energy'].mean(),\n",
    "      '\\n\\n Mean energy of cluster 2: ', Cluster2['energy'].mean(),\n",
    "      '\\n\\n Mean energy of cluster 3: ', Cluster3['energy'].mean(),\n",
    "      '\\n\\n Mean energy of cluster 4: ', Cluster4['energy'].mean(),\n",
    "      '\\n\\n Mean energy of cluster 5: ', Cluster5['energy'].mean(),)"
   ]
  },
  {
   "cell_type": "markdown",
   "metadata": {},
   "source": [
    "### Energy"
   ]
  },
  {
   "cell_type": "code",
   "execution_count": 70,
   "metadata": {},
   "outputs": [
    {
     "data": {
      "image/png": "[encoded data removed]",
      "text/plain": [
       "<Figure size 1296x288 with 1 Axes>"
      ]
     },
     "metadata": {
      "needs_background": "light"
     },
     "output_type": "display_data"
    }
   ],
   "source": [
    "plt.figure(figsize=(18,4))\n",
    "y = [Cluster1['energy'].mean(), Cluster2['energy'].mean(), Cluster3['energy'].mean(), Cluster4['energy'].mean(), Cluster5['energy'].mean()]\n",
    "plt.bar(np.arange(5), y, alpha=0.5, label='Clusters Energy')\n",
    "plt.legend(ncol=2, loc='center', bbox_to_anchor=(0.5, 1.1))\n",
    "plt.ylabel('Energy')\n",
    "plt.xlabel('Clusters')\n",
    "plt.show()"
   ]
  },
  {
   "cell_type": "markdown",
   "metadata": {},
   "source": [
    "### Acousticness"
   ]
  },
  {
   "cell_type": "code",
   "execution_count": 71,
   "metadata": {},
   "outputs": [
    {
     "data": {
      "image/png": "[encoded data removed]",
      "text/plain": [
       "<Figure size 1296x288 with 1 Axes>"
      ]
     },
     "metadata": {
      "needs_background": "light"
     },
     "output_type": "display_data"
    }
   ],
   "source": [
    "plt.figure(figsize=(18,4))\n",
    "y = [Cluster1['acousticness'].mean(), Cluster2['acousticness'].mean(), Cluster3['acousticness'].mean(), Cluster4['acousticness'].mean(), Cluster5['acousticness'].mean()]\n",
    "plt.bar(np.arange(5), y, alpha=0.5, label='Clusters acousticness')\n",
    "plt.legend(ncol=2, loc='center', bbox_to_anchor=(0.5, 1.1))\n",
    "plt.ylabel('acousticness')\n",
    "plt.xlabel('Clusters')\n",
    "plt.show()"
   ]
  },
  {
   "cell_type": "markdown",
   "metadata": {},
   "source": [
    "### Danceability"
   ]
  },
  {
   "cell_type": "code",
   "execution_count": 72,
   "metadata": {},
   "outputs": [
    {
     "data": {
      "image/png": "[encoded data removed]",
      "text/plain": [
       "<Figure size 1296x288 with 1 Axes>"
      ]
     },
     "metadata": {
      "needs_background": "light"
     },
     "output_type": "display_data"
    }
   ],
   "source": [
    "plt.figure(figsize=(18,4))\n",
    "y = [Cluster1['danceability'].mean(), Cluster2['danceability'].mean(), Cluster3['danceability'].mean(), Cluster4['danceability'].mean(), Cluster5['danceability'].mean()]\n",
    "plt.bar(np.arange(5), y, alpha=0.5, label='Clusters danceability')\n",
    "plt.legend(ncol=2, loc='center', bbox_to_anchor=(0.5, 1.1))\n",
    "plt.ylabel('danceability')\n",
    "plt.xlabel('Clusters')\n",
    "plt.show()"
   ]
  },
  {
   "cell_type": "markdown",
   "metadata": {},
   "source": [
    "### Duration"
   ]
  },
  {
   "cell_type": "code",
   "execution_count": 73,
   "metadata": {},
   "outputs": [
    {
     "data": {
      "image/png": "[encoded data removed]",
      "text/plain": [
       "<Figure size 1296x288 with 1 Axes>"
      ]
     },
     "metadata": {
      "needs_background": "light"
     },
     "output_type": "display_data"
    }
   ],
   "source": [
    "plt.figure(figsize=(18,4))\n",
    "y = [Cluster1['duration_ms'].mean(), Cluster2['duration_ms'].mean(), Cluster3['duration_ms'].mean(), Cluster4['duration_ms'].mean(), Cluster5['duration_ms'].mean()]\n",
    "plt.bar(np.arange(5), y, alpha=0.5, label='Clusters duration_ms')\n",
    "plt.legend(ncol=2, loc='center', bbox_to_anchor=(0.5, 1.1))\n",
    "plt.ylabel('Duration (in ms)')\n",
    "plt.xlabel('Clusters')\n",
    "plt.show()"
   ]
  },
  {
   "cell_type": "markdown",
   "metadata": {},
   "source": [
    "### Instrumentalness"
   ]
  },
  {
   "cell_type": "code",
   "execution_count": 74,
   "metadata": {},
   "outputs": [
    {
     "data": {
      "image/png": "[encoded data removed]",
      "text/plain": [
       "<Figure size 1296x288 with 1 Axes>"
      ]
     },
     "metadata": {
      "needs_background": "light"
     },
     "output_type": "display_data"
    }
   ],
   "source": [
    "plt.figure(figsize=(18,4))\n",
    "y = [Cluster1['instrumentalness'].mean(), Cluster2['instrumentalness'].mean(), Cluster3['instrumentalness'].mean(), Cluster4['instrumentalness'].mean(), Cluster5['instrumentalness'].mean()]\n",
    "plt.bar(np.arange(5), y, alpha=0.5, label='Clusters duration_ms')\n",
    "plt.legend(ncol=2, loc='center', bbox_to_anchor=(0.5, 1.1))\n",
    "plt.ylabel('instrumentalness')\n",
    "plt.xlabel('Clusters')\n",
    "plt.show()"
   ]
  },
  {
   "cell_type": "markdown",
   "metadata": {},
   "source": [
    "### Speechiness"
   ]
  },
  {
   "cell_type": "code",
   "execution_count": 75,
   "metadata": {},
   "outputs": [
    {
     "data": {
      "image/png": "[encoded data removed]",
      "text/plain": [
       "<Figure size 1296x288 with 1 Axes>"
      ]
     },
     "metadata": {
      "needs_background": "light"
     },
     "output_type": "display_data"
    }
   ],
   "source": [
    "plt.figure(figsize=(18,4))\n",
    "y = [Cluster1['speechiness'].mean(), Cluster2['speechiness'].mean(), Cluster3['speechiness'].mean(), Cluster4['speechiness'].mean(), Cluster5['speechiness'].mean()]\n",
    "plt.bar(np.arange(5), y, alpha=0.5, label='Clusters duration_ms')\n",
    "plt.legend(ncol=2, loc='center', bbox_to_anchor=(0.5, 1.1))\n",
    "plt.ylabel('speechiness')\n",
    "plt.xlabel('Clusters')\n",
    "plt.show()"
   ]
  },
  {
   "cell_type": "code",
   "execution_count": null,
   "metadata": {},
   "outputs": [],
   "source": []
  }
 ],
 "metadata": {
  "kernelspec": {
   "display_name": "Python 3",
   "language": "python",
   "name": "python3"
  },
  "language_info": {
   "codemirror_mode": {
    "name": "ipython",
    "version": 3
   },
   "file_extension": ".py",
   "mimetype": "text/x-python",
   "name": "python",
   "nbconvert_exporter": "python",
   "pygments_lexer": "ipython3",
   "version": "3.6.6"
  }
 },
 "nbformat": 4,
 "nbformat_minor": 2
}
